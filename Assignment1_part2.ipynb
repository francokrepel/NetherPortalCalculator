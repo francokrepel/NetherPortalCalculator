{
  "nbformat": 4,
  "nbformat_minor": 0,
  "metadata": {
    "colab": {
      "provenance": [],
      "mount_file_id": "1kLGJIAz1EDMLfSBYKRWN_szoF7bpwc3l",
      "authorship_tag": "ABX9TyO+OGP/YZgmDFWt9oGVDE6f",
      "include_colab_link": true
    },
    "kernelspec": {
      "name": "python3",
      "display_name": "Python 3"
    },
    "language_info": {
      "name": "python"
    }
  },
  "cells": [
    {
      "cell_type": "markdown",
      "metadata": {
        "id": "view-in-github",
        "colab_type": "text"
      },
      "source": [
        "<a href=\"https://colab.research.google.com/github/francokrepel/NetherPortalCalculator/blob/master/Assignment1_part2.ipynb\" target=\"_parent\"><img src=\"https://colab.research.google.com/assets/colab-badge.svg\" alt=\"Open In Colab\"/></a>"
      ]
    },
    {
      "cell_type": "code",
      "source": [
        "import pandas as pd\n",
        "import numpy as np\n",
        "import seaborn as sns\n",
        "import matplotlib.pyplot as plt"
      ],
      "metadata": {
        "id": "yHQnziD7yU2L"
      },
      "execution_count": null,
      "outputs": []
    },
    {
      "cell_type": "code",
      "execution_count": null,
      "metadata": {
        "id": "0_W3dUNbyJjf",
        "colab": {
          "base_uri": "https://localhost:8080/",
          "height": 363
        },
        "outputId": "9ea7b883-8aad-441c-c9c6-83bb8aba9762"
      },
      "outputs": [
        {
          "output_type": "execute_result",
          "data": {
            "text/plain": [
              "   Purchase  SUS  Duration  Gender  ASR_Error  Intent_Error\n",
              "0         1   84       254       0          3             2\n",
              "1         0   58       247       0          6             9\n",
              "2         0   56       125       1          6             8\n",
              "3         0   55        22       0         11             7\n",
              "4         1   95       262       0          2             3\n",
              "5         0   71       113       1          8             9\n",
              "6         0   76        91       1          6             3\n",
              "7         0   64        46       0          6            11\n",
              "8         0   56       132       0          9             9\n",
              "9         0   96       190       0         11             4"
            ],
            "text/html": [
              "\n",
              "  <div id=\"df-e4ae2501-7b23-43d6-b046-19c582582d0d\">\n",
              "    <div class=\"colab-df-container\">\n",
              "      <div>\n",
              "<style scoped>\n",
              "    .dataframe tbody tr th:only-of-type {\n",
              "        vertical-align: middle;\n",
              "    }\n",
              "\n",
              "    .dataframe tbody tr th {\n",
              "        vertical-align: top;\n",
              "    }\n",
              "\n",
              "    .dataframe thead th {\n",
              "        text-align: right;\n",
              "    }\n",
              "</style>\n",
              "<table border=\"1\" class=\"dataframe\">\n",
              "  <thead>\n",
              "    <tr style=\"text-align: right;\">\n",
              "      <th></th>\n",
              "      <th>Purchase</th>\n",
              "      <th>SUS</th>\n",
              "      <th>Duration</th>\n",
              "      <th>Gender</th>\n",
              "      <th>ASR_Error</th>\n",
              "      <th>Intent_Error</th>\n",
              "    </tr>\n",
              "  </thead>\n",
              "  <tbody>\n",
              "    <tr>\n",
              "      <th>0</th>\n",
              "      <td>1</td>\n",
              "      <td>84</td>\n",
              "      <td>254</td>\n",
              "      <td>0</td>\n",
              "      <td>3</td>\n",
              "      <td>2</td>\n",
              "    </tr>\n",
              "    <tr>\n",
              "      <th>1</th>\n",
              "      <td>0</td>\n",
              "      <td>58</td>\n",
              "      <td>247</td>\n",
              "      <td>0</td>\n",
              "      <td>6</td>\n",
              "      <td>9</td>\n",
              "    </tr>\n",
              "    <tr>\n",
              "      <th>2</th>\n",
              "      <td>0</td>\n",
              "      <td>56</td>\n",
              "      <td>125</td>\n",
              "      <td>1</td>\n",
              "      <td>6</td>\n",
              "      <td>8</td>\n",
              "    </tr>\n",
              "    <tr>\n",
              "      <th>3</th>\n",
              "      <td>0</td>\n",
              "      <td>55</td>\n",
              "      <td>22</td>\n",
              "      <td>0</td>\n",
              "      <td>11</td>\n",
              "      <td>7</td>\n",
              "    </tr>\n",
              "    <tr>\n",
              "      <th>4</th>\n",
              "      <td>1</td>\n",
              "      <td>95</td>\n",
              "      <td>262</td>\n",
              "      <td>0</td>\n",
              "      <td>2</td>\n",
              "      <td>3</td>\n",
              "    </tr>\n",
              "    <tr>\n",
              "      <th>5</th>\n",
              "      <td>0</td>\n",
              "      <td>71</td>\n",
              "      <td>113</td>\n",
              "      <td>1</td>\n",
              "      <td>8</td>\n",
              "      <td>9</td>\n",
              "    </tr>\n",
              "    <tr>\n",
              "      <th>6</th>\n",
              "      <td>0</td>\n",
              "      <td>76</td>\n",
              "      <td>91</td>\n",
              "      <td>1</td>\n",
              "      <td>6</td>\n",
              "      <td>3</td>\n",
              "    </tr>\n",
              "    <tr>\n",
              "      <th>7</th>\n",
              "      <td>0</td>\n",
              "      <td>64</td>\n",
              "      <td>46</td>\n",
              "      <td>0</td>\n",
              "      <td>6</td>\n",
              "      <td>11</td>\n",
              "    </tr>\n",
              "    <tr>\n",
              "      <th>8</th>\n",
              "      <td>0</td>\n",
              "      <td>56</td>\n",
              "      <td>132</td>\n",
              "      <td>0</td>\n",
              "      <td>9</td>\n",
              "      <td>9</td>\n",
              "    </tr>\n",
              "    <tr>\n",
              "      <th>9</th>\n",
              "      <td>0</td>\n",
              "      <td>96</td>\n",
              "      <td>190</td>\n",
              "      <td>0</td>\n",
              "      <td>11</td>\n",
              "      <td>4</td>\n",
              "    </tr>\n",
              "  </tbody>\n",
              "</table>\n",
              "</div>\n",
              "      <button class=\"colab-df-convert\" onclick=\"convertToInteractive('df-e4ae2501-7b23-43d6-b046-19c582582d0d')\"\n",
              "              title=\"Convert this dataframe to an interactive table.\"\n",
              "              style=\"display:none;\">\n",
              "        \n",
              "  <svg xmlns=\"http://www.w3.org/2000/svg\" height=\"24px\"viewBox=\"0 0 24 24\"\n",
              "       width=\"24px\">\n",
              "    <path d=\"M0 0h24v24H0V0z\" fill=\"none\"/>\n",
              "    <path d=\"M18.56 5.44l.94 2.06.94-2.06 2.06-.94-2.06-.94-.94-2.06-.94 2.06-2.06.94zm-11 1L8.5 8.5l.94-2.06 2.06-.94-2.06-.94L8.5 2.5l-.94 2.06-2.06.94zm10 10l.94 2.06.94-2.06 2.06-.94-2.06-.94-.94-2.06-.94 2.06-2.06.94z\"/><path d=\"M17.41 7.96l-1.37-1.37c-.4-.4-.92-.59-1.43-.59-.52 0-1.04.2-1.43.59L10.3 9.45l-7.72 7.72c-.78.78-.78 2.05 0 2.83L4 21.41c.39.39.9.59 1.41.59.51 0 1.02-.2 1.41-.59l7.78-7.78 2.81-2.81c.8-.78.8-2.07 0-2.86zM5.41 20L4 18.59l7.72-7.72 1.47 1.35L5.41 20z\"/>\n",
              "  </svg>\n",
              "      </button>\n",
              "      \n",
              "  <style>\n",
              "    .colab-df-container {\n",
              "      display:flex;\n",
              "      flex-wrap:wrap;\n",
              "      gap: 12px;\n",
              "    }\n",
              "\n",
              "    .colab-df-convert {\n",
              "      background-color: #E8F0FE;\n",
              "      border: none;\n",
              "      border-radius: 50%;\n",
              "      cursor: pointer;\n",
              "      display: none;\n",
              "      fill: #1967D2;\n",
              "      height: 32px;\n",
              "      padding: 0 0 0 0;\n",
              "      width: 32px;\n",
              "    }\n",
              "\n",
              "    .colab-df-convert:hover {\n",
              "      background-color: #E2EBFA;\n",
              "      box-shadow: 0px 1px 2px rgba(60, 64, 67, 0.3), 0px 1px 3px 1px rgba(60, 64, 67, 0.15);\n",
              "      fill: #174EA6;\n",
              "    }\n",
              "\n",
              "    [theme=dark] .colab-df-convert {\n",
              "      background-color: #3B4455;\n",
              "      fill: #D2E3FC;\n",
              "    }\n",
              "\n",
              "    [theme=dark] .colab-df-convert:hover {\n",
              "      background-color: #434B5C;\n",
              "      box-shadow: 0px 1px 3px 1px rgba(0, 0, 0, 0.15);\n",
              "      filter: drop-shadow(0px 1px 2px rgba(0, 0, 0, 0.3));\n",
              "      fill: #FFFFFF;\n",
              "    }\n",
              "  </style>\n",
              "\n",
              "      <script>\n",
              "        const buttonEl =\n",
              "          document.querySelector('#df-e4ae2501-7b23-43d6-b046-19c582582d0d button.colab-df-convert');\n",
              "        buttonEl.style.display =\n",
              "          google.colab.kernel.accessAllowed ? 'block' : 'none';\n",
              "\n",
              "        async function convertToInteractive(key) {\n",
              "          const element = document.querySelector('#df-e4ae2501-7b23-43d6-b046-19c582582d0d');\n",
              "          const dataTable =\n",
              "            await google.colab.kernel.invokeFunction('convertToInteractive',\n",
              "                                                     [key], {});\n",
              "          if (!dataTable) return;\n",
              "\n",
              "          const docLinkHtml = 'Like what you see? Visit the ' +\n",
              "            '<a target=\"_blank\" href=https://colab.research.google.com/notebooks/data_table.ipynb>data table notebook</a>'\n",
              "            + ' to learn more about interactive tables.';\n",
              "          element.innerHTML = '';\n",
              "          dataTable['output_type'] = 'display_data';\n",
              "          await google.colab.output.renderOutput(dataTable, element);\n",
              "          const docLink = document.createElement('div');\n",
              "          docLink.innerHTML = docLinkHtml;\n",
              "          element.appendChild(docLink);\n",
              "        }\n",
              "      </script>\n",
              "    </div>\n",
              "  </div>\n",
              "  "
            ]
          },
          "metadata": {},
          "execution_count": 2
        }
      ],
      "source": [
        "df = pd.read_csv('drive/My Drive/Colab Notebooks/assignment_1_files/data.csv')\n",
        "df = df.drop(df.columns[-1], axis = 1)\n",
        "df.head(10)"
      ]
    },
    {
      "cell_type": "code",
      "source": [
        "df.isna().sum()"
      ],
      "metadata": {
        "colab": {
          "base_uri": "https://localhost:8080/"
        },
        "id": "2jQN49vc0NdL",
        "outputId": "8d718bcd-9499-4749-8231-307fcaf64ae2"
      },
      "execution_count": null,
      "outputs": [
        {
          "output_type": "execute_result",
          "data": {
            "text/plain": [
              "Purchase        0\n",
              "SUS             0\n",
              "Duration        0\n",
              "Gender          0\n",
              "ASR_Error       0\n",
              "Intent_Error    0\n",
              "dtype: int64"
            ]
          },
          "metadata": {},
          "execution_count": 3
        }
      ]
    },
    {
      "cell_type": "code",
      "source": [
        "# compute pair-wise correlation: identify potentially highly correlated redundant or irrelevant features that may not contribute much to the accuracy of the model. \n",
        "# important because including too many irrelevant features can lead to overfitting, where the model too complex and fits the training data too closely, resulting in poor generalization to new data.\n",
        "df.corr(method='pearson')['SUS'].sort_values(0)"
      ],
      "metadata": {
        "colab": {
          "base_uri": "https://localhost:8080/"
        },
        "id": "WOdliQb9YTmL",
        "outputId": "272089ac-7bcd-4145-f552-8ff71f112634"
      },
      "execution_count": null,
      "outputs": [
        {
          "output_type": "stream",
          "name": "stderr",
          "text": [
            "<ipython-input-4-901d31ac8b77>:3: FutureWarning: In a future version of pandas all arguments of Series.sort_values will be keyword-only\n",
            "  df.corr(method='pearson')['SUS'].sort_values(0)\n"
          ]
        },
        {
          "output_type": "execute_result",
          "data": {
            "text/plain": [
              "Intent_Error   -0.693675\n",
              "ASR_Error      -0.662405\n",
              "Duration       -0.006631\n",
              "Gender          0.111523\n",
              "Purchase        0.661931\n",
              "SUS             1.000000\n",
              "Name: SUS, dtype: float64"
            ]
          },
          "metadata": {},
          "execution_count": 4
        }
      ]
    },
    {
      "cell_type": "code",
      "source": [
        "# looks like ASR_Error and Intent_Error are strong negative correlations with the SUS score, but whether user made a purchase using siri has a strong positive correlation, this makes logical sense"
      ],
      "metadata": {
        "id": "-oOzOLNscIpi"
      },
      "execution_count": null,
      "outputs": []
    },
    {
      "cell_type": "markdown",
      "source": [
        "# Distributions"
      ],
      "metadata": {
        "id": "PtRswO_-UXDM"
      }
    },
    {
      "cell_type": "code",
      "source": [
        "# lets see the distribution of our SUS\n",
        "sns.histplot(data=df['SUS'], palette='bright', bins=10, kde=True)\n",
        "plt.show()"
      ],
      "metadata": {
        "colab": {
          "base_uri": "https://localhost:8080/",
          "height": 279
        },
        "id": "TGk7QM4ccf7B",
        "outputId": "60ca1a51-4714-4e6c-d451-a78570c1f6e7"
      },
      "execution_count": null,
      "outputs": [
        {
          "output_type": "display_data",
          "data": {
            "text/plain": [
              "<Figure size 432x288 with 1 Axes>"
            ],
            "image/png": "[encoded data removed]"
          },
          "metadata": {
            "needs_background": "light"
          }
        }
      ]
    },
    {
      "cell_type": "code",
      "source": [
        "# Data looks decently distributed, slightly skewed to the higher ratings"
      ],
      "metadata": {
        "id": "JIjdXsc3eajP"
      },
      "execution_count": null,
      "outputs": []
    },
    {
      "cell_type": "markdown",
      "source": [
        "Let us plot some of these distributions of errors"
      ],
      "metadata": {
        "id": "pJlHn5HReeuG"
      }
    },
    {
      "cell_type": "code",
      "source": [
        "fig, axs = plt.subplots(ncols=3, figsize=(16,5))\n",
        "\n",
        "sns.histplot(df.loc[df['Purchase'] == 0]['SUS'], kde=True, bins=10, color='c', ax=axs[0])\n",
        "axs[0].set_title('ASR Error Distribution')\n",
        "sns.histplot(df.loc[df['Purchase'] == 1]['SUS'], kde=True, bins=10, color='purple', ax=axs[1])\n",
        "axs[1].set_title('Indent Error Distribution')\n",
        "sns.histplot(data=df, x='Purchase', color='green', ax=axs[2])\n",
        "axs[2].set_title('Purchase Distribution')"
      ],
      "metadata": {
        "colab": {
          "base_uri": "https://localhost:8080/",
          "height": 368
        },
        "id": "NCfMbwp1edx-",
        "outputId": "ca3e331e-4c59-4aff-dd5d-f2126c10b58b"
      },
      "execution_count": null,
      "outputs": [
        {
          "output_type": "execute_result",
          "data": {
            "text/plain": [
              "Text(0.5, 1.0, 'Purchase Distribution')"
            ]
          },
          "metadata": {},
          "execution_count": 8
        },
        {
          "output_type": "display_data",
          "data": {
            "text/plain": [
              "<Figure size 1152x360 with 3 Axes>"
            ],
            "image/png": "[encoded data removed]"
          },
          "metadata": {
            "needs_background": "light"
          }
        }
      ]
    },
    {
      "cell_type": "code",
      "source": [
        "# looks like our features are well distributed, and Purchase counts are quite even."
      ],
      "metadata": {
        "id": "-5An0dTXlWG4"
      },
      "execution_count": null,
      "outputs": []
    },
    {
      "cell_type": "code",
      "source": [
        "# lets try and compare the SUS rating changes by the gender of the user\n",
        "sns.boxplot(x=\"Gender\", y=\"SUS\", hue=\"Purchase\", data=df, palette='bright')\n",
        "plt.show()"
      ],
      "metadata": {
        "colab": {
          "base_uri": "https://localhost:8080/",
          "height": 280
        },
        "id": "c6Y4-0ydmuJQ",
        "outputId": "743e4630-dd09-469e-8f2f-f07bb714bd40"
      },
      "execution_count": null,
      "outputs": [
        {
          "output_type": "display_data",
          "data": {
            "text/plain": [
              "<Figure size 432x288 with 1 Axes>"
            ],
            "image/png": "[encoded data removed]"
          },
          "metadata": {
            "needs_background": "light"
          }
        }
      ]
    },
    {
      "cell_type": "code",
      "source": [
        "# looks logical, men do have slightly higher average ranges when NOT purchased, and women seem to have slightly higer SUS ranges when they DO purchase an item\n",
        "# However, makes logical sense that gender doesnt really influence this SUS decision that much"
      ],
      "metadata": {
        "id": "hsksj2Xzn7ZG"
      },
      "execution_count": null,
      "outputs": []
    },
    {
      "cell_type": "markdown",
      "source": [
        "OLS:"
      ],
      "metadata": {
        "id": "4_yWzULM2ftC"
      }
    },
    {
      "cell_type": "code",
      "source": [
        "import statsmodels.api as sm\n",
        "# label\n",
        "y = df['SUS']\n",
        "#data\n",
        "x = df.drop('SUS', axis = 1)"
      ],
      "metadata": {
        "id": "1z3bLbXo2luy"
      },
      "execution_count": null,
      "outputs": []
    },
    {
      "cell_type": "code",
      "source": [
        "x = sm.add_constant(x)\n",
        "model = sm.OLS(y, x).fit()\n",
        "print(model.summary());"
      ],
      "metadata": {
        "colab": {
          "base_uri": "https://localhost:8080/"
        },
        "id": "uhzjVSD-W-Xo",
        "outputId": "2c58ed7a-4802-46bc-abb5-5f689a71d1a2"
      },
      "execution_count": null,
      "outputs": [
        {
          "output_type": "stream",
          "name": "stdout",
          "text": [
            "                            OLS Regression Results                            \n",
            "==============================================================================\n",
            "Dep. Variable:                    SUS   R-squared:                       0.593\n",
            "Model:                            OLS   Adj. R-squared:                  0.571\n",
            "Method:                 Least Squares   F-statistic:                     27.39\n",
            "Date:                Sat, 18 Feb 2023   Prob (F-statistic):           5.25e-17\n",
            "Time:                        20:36:53   Log-Likelihood:                -362.39\n",
            "No. Observations:                 100   AIC:                             736.8\n",
            "Df Residuals:                      94   BIC:                             752.4\n",
            "Df Model:                           5                                         \n",
            "Covariance Type:            nonrobust                                         \n",
            "================================================================================\n",
            "                   coef    std err          t      P>|t|      [0.025      0.975]\n",
            "--------------------------------------------------------------------------------\n",
            "const           93.0282      5.541     16.788      0.000      82.026     104.031\n",
            "Purchase         1.3412      3.676      0.365      0.716      -5.958       8.641\n",
            "Duration        -0.0002      0.010     -0.025      0.980      -0.020       0.019\n",
            "Gender           0.8367      1.971      0.425      0.672      -3.076       4.749\n",
            "ASR_Error       -1.4254      0.401     -3.553      0.001      -2.222      -0.629\n",
            "Intent_Error    -2.0092      0.439     -4.572      0.000      -2.882      -1.137\n",
            "==============================================================================\n",
            "Omnibus:                        6.969   Durbin-Watson:                   2.023\n",
            "Prob(Omnibus):                  0.031   Jarque-Bera (JB):                8.115\n",
            "Skew:                          -0.378   Prob(JB):                       0.0173\n",
            "Kurtosis:                       4.173   Cond. No.                     1.27e+03\n",
            "==============================================================================\n",
            "\n",
            "Notes:\n",
            "[1] Standard Errors assume that the covariance matrix of the errors is correctly specified.\n",
            "[2] The condition number is large, 1.27e+03. This might indicate that there are\n",
            "strong multicollinearity or other numerical problems.\n"
          ]
        },
        {
          "output_type": "stream",
          "name": "stderr",
          "text": [
            "/usr/local/lib/python3.8/dist-packages/statsmodels/tsa/tsatools.py:142: FutureWarning: In a future version of pandas all arguments of concat except for the argument 'objs' will be keyword-only\n",
            "  x = pd.concat(x[::order], 1)\n"
          ]
        }
      ]
    },
    {
      "cell_type": "markdown",
      "source": [
        "2) The significant features are \"ASR_Error\" and \"Intent_Error\" since they have p-values less than the significance level of 0.05. The coefficients for these features are also negative, which indicates that with number of ASR errors and intent errors increasing, the SUS score decreases.\n",
        "\n",
        "On the other hand, the features \"Purchase,\" \"Duration,\" and \"Gender\" are not statistically significant since their p-values are greater than 0.05. This suggests that there is no strong evidence to suggest that these features have a significant relationship with SUS in this model. "
      ],
      "metadata": {
        "id": "khPlfJb2VRyL"
      }
    },
    {
      "cell_type": "markdown",
      "source": [
        "3) ASR_Error: The negative coefficient of -1.4254 suggests that as the ASR errors decreases the System Usability Survey scores (SUS) increase. I believe this result is consistent with our expectation as users might get frustrated if Siri fails to recognize their speech, resulting in a lower SUS score.\n",
        "\n",
        "Intent_Error: The negative coefficient of -2.0092 suggests that increasing the number of Intent_Errors decreases the SUS score. This result is also consistent with our expectation as users might get frustrated if Siri fails to classify their speech intentions, also resulting in a lower SUS score.\n",
        "\n",
        "Duration: The coefficient of -0.0002 suggests that the duration of the dialogue between Siri and the user has no significant impact on the SUS score. This result is unexpected as longer dialogue duration might lead to a more complex interaction, which could potentially affect the SUS score. However, since it diesnt directly determine how staisfied the users were with the interaction, it could make sense that it doesnt have much of an impact\n",
        "\n",
        "Gender: The positive coefficient of 0.8367 suggests that there is a slight positive relationship between male gender and the SUS score. However, the P-value of 0.672 indicates that this relationship is not statistically significant. This result is consistent with expectations as gender shouldnt really impact whether one is satisfied with their Siri interactions.\n",
        "\n",
        "Purchase: The coefficient of 1.3412 suggests that the Purchase feature has no significant impact on the SUS score. This result is one however that was unexpected as the ability to purchase a ticket through Siri might increase the usability of the system and the result in a higher SUS score. However, the high P-value of 0.716 indicates that the relationship between the Purchase feature and SUS score is not statistically significant."
      ],
      "metadata": {
        "id": "-p-alXqVRrEk"
      }
    },
    {
      "cell_type": "markdown",
      "source": [
        "4) The model suggests that \"Intent_Error\" is the most influential factor on SUS since it has the largest coefficient (-2.0092) compared all the other independent variables in the model. The negative sign of the coefficient indicates that as the number of intent errors increases, the SUS score decreases, which we mentioned aligns with our predictions.\n",
        "\n",
        "Additionally, the statistical significance of the coefficient is evident due to its low p-value (less than 0.001). This means that there is strong evidence to suggest that the relationship between intent errors and SUS is not due to natural chance.\n",
        "\n",
        "Therefore, based on the coefficient size and statistical significance, we can conclude that \"Intent_Error\" is the most influential factor on SUS in this model."
      ],
      "metadata": {
        "id": "eIlupsIYUyNT"
      }
    },
    {
      "cell_type": "markdown",
      "source": [
        "5) As mentioned before, the potential reason for Intent Error and ASR Error being the most significant predictors of SUS may have to do with how the user feels when interacting with Siri;\n",
        "\n",
        "ASR_Error: Automatic Speech Recognition errors occur when Siri fails to recognize the user's speech accurately. This can definately lead to frustration and confusion from the user and end up negatively impact their perception of the system's usability. As a result, a higher number of ASR errors leads to lower SUS scores.\n",
        "\n",
        "Intent_Error: Intent errors happen when the system fails to understand the user's intentions in their interaction. This can lead to the system providing irrelevant or incorrect information, which again negatively impacts the user's perception of the system's usability. Likewise, a higher number of intent errors could lead to lower SUS scores."
      ],
      "metadata": {
        "id": "gGKLM425Vrhh"
      }
    },
    {
      "cell_type": "code",
      "source": [
        "# remember, R-squared measures  proportion of the variance in the dependent variable that can be explained by the independent variable"
      ],
      "metadata": {
        "id": "a-hoRbyZ_NVL"
      },
      "execution_count": null,
      "outputs": []
    },
    {
      "cell_type": "markdown",
      "source": [
        "# Regression Analysis:"
      ],
      "metadata": {
        "id": "FUKOR7JWBb9h"
      }
    },
    {
      "cell_type": "code",
      "source": [
        "from sklearn.linear_model import LinearRegression\n",
        "from sklearn.model_selection import train_test_split\n",
        "from sklearn.preprocessing import PolynomialFeatures\n",
        "from sklearn.metrics import r2_score,mean_squared_error"
      ],
      "metadata": {
        "id": "k4Qzm-w7Bd4K"
      },
      "execution_count": null,
      "outputs": []
    },
    {
      "cell_type": "code",
      "source": [
        "x = df.drop(columns='SUS')\n",
        "y = df['SUS']\n",
        "\n",
        "x_train, x_test, y_train, y_test = train_test_split(x, y)"
      ],
      "metadata": {
        "id": "guIQxQSTBgGI"
      },
      "execution_count": null,
      "outputs": []
    },
    {
      "cell_type": "markdown",
      "source": [
        "Lines:"
      ],
      "metadata": {
        "id": "rdQQUwx2Bm_i"
      }
    },
    {
      "cell_type": "code",
      "source": [
        "lr = LinearRegression().fit(x_train,y_train)\n",
        "\n",
        "y_train_pred = lr.predict(x_train)\n",
        "y_test_pred = lr.predict(x_test)\n",
        "\n",
        "print(\"The R square score of linear regression model is: \", lr.score(x_test,y_test))"
      ],
      "metadata": {
        "colab": {
          "base_uri": "https://localhost:8080/"
        },
        "id": "PNYHRMNqBoAG",
        "outputId": "22a5241e-db77-441b-c74b-08d8fbb3b41d"
      },
      "execution_count": null,
      "outputs": [
        {
          "output_type": "stream",
          "name": "stdout",
          "text": [
            "The R square score of linear regression model is:  0.44664888852278284\n"
          ]
        }
      ]
    },
    {
      "cell_type": "markdown",
      "source": [
        "2-Order Polynomials:"
      ],
      "metadata": {
        "id": "6vby9ta-BtG5"
      }
    },
    {
      "cell_type": "code",
      "source": [
        "# remember: 2-order polynomial model is regression model that fits a curve to the data using a quadratic equation.\n",
        "# goal is to find the values of the coefficients that minimize the sum of squared residuals between the predicted values and the actual values."
      ],
      "metadata": {
        "id": "XyGdvVN8Dye0"
      },
      "execution_count": null,
      "outputs": []
    },
    {
      "cell_type": "code",
      "source": [
        "quad = PolynomialFeatures (degree = 2)\n",
        "# return a new feature matrix x_quad that includes the original features and all their second-order polynomial combinations. \n",
        "x_quad = quad.fit_transform(x)\n",
        "\n",
        "X_train,X_test,Y_train,Y_test = train_test_split(x_quad,y, random_state = 0)\n",
        "\n",
        "plr = LinearRegression().fit(X_train,Y_train)\n",
        "\n",
        "Y_train_pred = plr.predict(X_train)\n",
        "Y_test_pred = plr.predict(X_test)\n",
        "\n",
        "print(\"The R square score of 2-order polynomial regression model is: \", plr.score(X_test,Y_test))"
      ],
      "metadata": {
        "colab": {
          "base_uri": "https://localhost:8080/"
        },
        "id": "dlCtSkX7Bpn_",
        "outputId": "acde3312-d854-4d0a-82a4-22ba8147c777"
      },
      "execution_count": null,
      "outputs": [
        {
          "output_type": "stream",
          "name": "stdout",
          "text": [
            "The R square score of 2-order polynomial regression model is:  0.5220498503429958\n"
          ]
        }
      ]
    }
  ]
}